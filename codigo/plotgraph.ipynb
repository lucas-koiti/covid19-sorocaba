{
 "nbformat": 4,
 "nbformat_minor": 2,
 "metadata": {
  "language_info": {
   "name": "python",
   "codemirror_mode": {
    "name": "ipython",
    "version": 3
   },
   "version": "3.8.3-final"
  },
  "orig_nbformat": 2,
  "file_extension": ".py",
  "mimetype": "text/x-python",
  "name": "python",
  "npconvert_exporter": "python",
  "pygments_lexer": "ipython3",
  "version": 3,
  "kernelspec": {
   "name": "python38064bitfedec6492df148ffa0b87047a4dc998f",
   "display_name": "Python 3.8.0 64-bit"
  }
 },
 "cells": [
  {
   "cell_type": "markdown",
   "metadata": {},
   "source": [
    "# Graficos de casos Confirmados e Óbitos na cidade de Sorocaba"
   ]
  },
  {
   "cell_type": "code",
   "execution_count": null,
   "metadata": {},
   "outputs": [
    {
     "ename": "Error",
     "evalue": "Jupyter notebook failed to launch. \r\nError: Jupyter server crashed. Unable to connect. \r\nError code from jupyter: 0\nFailed to run jupyter as observable with args notebook --no-browser --notebook-dir=/tmp/9285f2cc-6deb-4f8d-8514-7887c7b1ab6c --config=/tmp/9285f2cc-6deb-4f8d-8514-7887c7b1ab6c/jupyter_notebook_config.py --NotebookApp.iopub_data_rate_limit=10000000000.0\n",
     "output_type": "error",
     "traceback": [
      "Error: Jupyter notebook failed to launch.",
      "Error: Jupyter server crashed. Unable to connect.",
      "Error code from jupyter: 0",
      "Failed to run jupyter as observable with args notebook --no-browser --notebook-dir=/tmp/9285f2cc-6deb-4f8d-8514-7887c7b1ab6c --config=/tmp/9285f2cc-6deb-4f8d-8514-7887c7b1ab6c/jupyter_notebook_config.py --NotebookApp.iopub_data_rate_limit=10000000000.0",
      "at E.start (/home/lucask/.vscode/extensions/ms-python.python-2020.2.64397/out/client/extension.js:1:825656)"
     ]
    }
   ],
   "source": [
    "import pandas as pd\n",
    "import plotly.express as px"
   ]
  },
  {
   "cell_type": "code",
   "execution_count": null,
   "metadata": {},
   "outputs": [
    {
     "ename": "Error",
     "evalue": "Jupyter notebook failed to launch. \r\nError: Jupyter server crashed. Unable to connect. \r\nError code from jupyter: 0\nFailed to run jupyter as observable with args notebook --no-browser --notebook-dir=/tmp/e2d6fea9-b44e-4cd4-9dc0-80973aa5a024 --config=/tmp/e2d6fea9-b44e-4cd4-9dc0-80973aa5a024/jupyter_notebook_config.py --NotebookApp.iopub_data_rate_limit=10000000000.0\n",
     "output_type": "error",
     "traceback": [
      "Error: Jupyter notebook failed to launch.",
      "Error: Jupyter server crashed. Unable to connect.",
      "Error code from jupyter: 0",
      "Failed to run jupyter as observable with args notebook --no-browser --notebook-dir=/tmp/e2d6fea9-b44e-4cd4-9dc0-80973aa5a024 --config=/tmp/e2d6fea9-b44e-4cd4-9dc0-80973aa5a024/jupyter_notebook_config.py --NotebookApp.iopub_data_rate_limit=10000000000.0",
      "at E.start (/home/lucask/.vscode/extensions/ms-python.python-2020.2.64397/out/client/extension.js:1:825656)"
     ]
    }
   ],
   "source": [
    "dataf = pd.read_csv('../dados/planilha_csv/dados.csv')\n",
    "\n",
    "fig = px.line(dataf, x = 'Dia', y = 'Confirmados', title='Covid-19 Casos Confirmados em Sorocaba')\n",
    "\n",
    "\n",
    "fig.show()"
   ]
  },
  {
   "cell_type": "code",
   "execution_count": null,
   "metadata": {},
   "outputs": [
    {
     "ename": "Error",
     "evalue": "Jupyter notebook failed to launch. \r\nError: Jupyter server crashed. Unable to connect. \r\nError code from jupyter: 0\nFailed to run jupyter as observable with args notebook --no-browser --notebook-dir=/tmp/e2d6fea9-b44e-4cd4-9dc0-80973aa5a024 --config=/tmp/e2d6fea9-b44e-4cd4-9dc0-80973aa5a024/jupyter_notebook_config.py --NotebookApp.iopub_data_rate_limit=10000000000.0\n",
     "output_type": "error",
     "traceback": [
      "Error: Jupyter notebook failed to launch.",
      "Error: Jupyter server crashed. Unable to connect.",
      "Error code from jupyter: 0",
      "Failed to run jupyter as observable with args notebook --no-browser --notebook-dir=/tmp/e2d6fea9-b44e-4cd4-9dc0-80973aa5a024 --config=/tmp/e2d6fea9-b44e-4cd4-9dc0-80973aa5a024/jupyter_notebook_config.py --NotebookApp.iopub_data_rate_limit=10000000000.0",
      "at E.start (/home/lucask/.vscode/extensions/ms-python.python-2020.2.64397/out/client/extension.js:1:825656)"
     ]
    }
   ],
   "source": [
    "dataf = pd.read_csv('../dados/planilha_csv/dados.csv')\n",
    "\n",
    "fig = px.line(dataf, x = 'Dia', y = 'Obitos', title='Covid-19 Óbitos em Sorocaba')\n",
    "\n",
    "\n",
    "fig.show()"
   ]
  }
 ]
}